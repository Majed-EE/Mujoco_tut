{
 "cells": [
  {
   "cell_type": "code",
   "execution_count": 1,
   "id": "d9781366-563a-4e49-bc41-b4f15b088739",
   "metadata": {},
   "outputs": [],
   "source": [
    "import mujoco as mj\n",
    "from mujoco.glfw import glfw\n",
    "import numpy as np\n",
    "import time as T"
   ]
  },
  {
   "cell_type": "code",
   "execution_count": 2,
   "id": "afb5d48c-1c19-41b5-99ab-6e055bf954b0",
   "metadata": {},
   "outputs": [],
   "source": [
    "\n",
    "\n",
    "###\n",
    "\"\"\"\n",
    "data.qpos=q0; data.qpos[1]=q1 #set position\n",
    "mj_forward(model,data) # forward kinematics\n",
    "data.site_xpos[0] #get site position\n",
    "\n",
    "\n",
    "\"\"\"\n",
    "####\n",
    "xml_path = 'left_hand_light.xml' #xml file (assumes this is in the same folder as this file)\n",
    "simend = 20 # Simulation time"
   ]
  },
  {
   "cell_type": "code",
   "execution_count": 3,
   "id": "27c9bad9-9676-48d9-a61b-dbd5839a279a",
   "metadata": {},
   "outputs": [],
   "source": [
    "\n",
    "# MuJoCo data structures\n",
    "model = mj.MjModel.from_xml_path(xml_path)  # MuJoCo model\n",
    "data = mj.MjData(model)                # MuJoCo data"
   ]
  },
  {
   "cell_type": "code",
   "execution_count": null,
   "id": "d4a46d1e-0727-4e7c-a4fe-b325958f28b0",
   "metadata": {},
   "outputs": [],
   "source": [
    "# Get the number of joints\n",
    "def getJointInfo(model):\n",
    "    num_joints = model.njnt\n",
    "    joint_info = []\n",
    "    index=0\n",
    "    for i in range(num_joints):\n",
    "        # joint_name = model.name_jntadr[i]\n",
    "        joint_index=index\n",
    "        joint_body_id = model.jnt_bodyid[i]   \n",
    "        index=index+1\n",
    "        joint_type = model.jnt_type[i]\n",
    "        joint_axis = model.jnt_axis[i] \n",
    "        joint_info.append((joint_index, joint_body_id, joint_type,joint_axis))\n",
    "    return joint_info"
   ]
  },
  {
   "cell_type": "code",
   "execution_count": null,
   "id": "08fbcf8f-b719-4fc5-a5d5-3a36784660f0",
   "metadata": {},
   "outputs": [],
   "source": [
    "# move joint forward kinematics\n",
    "for x in range(len(joint_info)):\n",
    "    if joint_info[x][1]==9:\n",
    "        print(data.qpos[x])\n",
    "        print(x)"
   ]
  },
  {
   "cell_type": "code",
   "execution_count": null,
   "id": "8c2226e6-7803-4a80-ad32-af6ccb76595e",
   "metadata": {},
   "outputs": [],
   "source": [
    "N = 500\n",
    "simend=N\n",
    "q0_start = 0 # starting angle\n",
    "import math\n",
    "\n",
    "def setPositionControl(joint_id,angle):\n",
    "    q_start = 0\n",
    "    q_end = math.radians(angle); # ending angle # 90 degrees-------------------\n",
    "    q = np.linspace(q_start,q_end,N)\n",
    "    data.qpos[joint_id] = q0_start;\n",
    "    # print(q)\n",
    "    return q\n",
    "i = 0;\n",
    "time = 0\n",
    "dt = 0.001;\n",
    "joint_move=[]\n",
    "# for joint in range(16):\n",
    "#     k=setPositionControl(joint,20)\n",
    "#     joint_move.append(k)\n",
    "#     print(len(k))\n",
    "    # print(data.qpos)\n"
   ]
  },
  {
   "cell_type": "raw",
   "id": "d0c9ccca-d214-4e05-8672-3ae6091ad5f9",
   "metadata": {},
   "source": [
    "print(joint_move)"
   ]
  },
  {
   "cell_type": "code",
   "execution_count": null,
   "id": "5b2967f6-eedb-459d-acbf-b4efba8e6aee",
   "metadata": {},
   "outputs": [],
   "source": [
    "# move finger by some anlge\n",
    "\n",
    "joint_id=6\n",
    "q=setPositionControl(joint_id,0)\n",
    "for x in range(simend):\n",
    "    step_start = T.time()\n",
    "    mj.mj_step(model, data)\n",
    "    joint_angles = np.copy(data.qpos)\n",
    "    joint_torques = np.copy(data.qfrc_actuator)\n",
    "    data.qpos[joint_id] = q[x];\n",
    "    # data.qpos[1] = q1[i];\n",
    "\n",
    "    print(\"XXXXXXXXXXXXXXXXXXXXXXXXXXXXXXXXXXXXXX\")\n",
    "    print(f\"angle {math.degrees(joint_angles[joint_id])}\")\n",
    "    \n",
    "    # print(f\"torque {joint_torques[joint_id]}\")\n",
    "    print(\"XXXXXXXXXXXXXXXXXXXXXXXXXXXXXXXXXXXXXX\")\n",
    "\n",
    "    # print(\"Joint Angles:\", joint_angles)\n",
    "    # print(\"Joint Torques:\", joint_torques)"
   ]
  },
  {
   "cell_type": "code",
   "execution_count": null,
   "id": "df67ff29-95b5-4a37-9012-bcd66fb9a4c2",
   "metadata": {},
   "outputs": [],
   "source": [
    "# print(len(data.xfrc_applied))"
   ]
  },
  {
   "cell_type": "code",
   "execution_count": 4,
   "id": "73698e8d-9a96-467f-812a-c4c5cc479e10",
   "metadata": {},
   "outputs": [],
   "source": [
    "##### body_dict\n",
    "import xml.etree.ElementTree as ET\n",
    "xml_path=\"left_hand_light.xml\"\n",
    "tree = ET.parse(xml_path)\n",
    "root = tree.getroot()\n",
    "body_dict = {}\n",
    "joint_dict={}\n",
    "body_id=0\n",
    "joint_flag=False\n",
    "for body in root.findall('.//body'):\n",
    "        body_name = body.get('name')\n",
    "        if body_name is None:\n",
    "            continue\n",
    "        # body.findall('joint')\n",
    "        for joint in body.findall('joint'):\n",
    "            joint_flag=True\n",
    "            joint_name = joint.get('name')\n",
    "            # print(joint_name)\n",
    "            body_dict[body_id]={\"body_name\":body_name,\n",
    "                               \"body_id\":body_id,\n",
    "                                \"joint_name\": joint.get('name')\n",
    "            # \"joint_type\" : joint.get('type'),\n",
    "            # # joint_pos = joint.get('pos'),\n",
    "            # # joint_axis = joint.get('axis')\n",
    "            # \"joint_range\" : joint.get('range')\n",
    "            }\n",
    "        if not joint_flag: # if link is present\n",
    "            body_dict[body_id]={\"body_name\":body_name,\n",
    "                               \"body_id\":body_id}\n",
    "        joint_flag=False\n",
    "            \n",
    "        body_id+=1\n"
   ]
  },
  {
   "cell_type": "code",
   "execution_count": 5,
   "id": "488698ad-0454-489a-a083-b63becff3c46",
   "metadata": {},
   "outputs": [
    {
     "name": "stdout",
     "output_type": "stream",
     "text": [
      "{0: {'body_name': 'palm', 'body_id': 0}, 1: {'body_name': 'rf_base', 'body_id': 1, 'joint_name': 'rfj0'}, 2: {'body_name': 'rf_proximal', 'body_id': 2, 'joint_name': 'rfj1'}, 3: {'body_name': 'rf_medial', 'body_id': 3, 'joint_name': 'rfj2'}, 4: {'body_name': 'rf_distal', 'body_id': 4, 'joint_name': 'rfj3'}, 5: {'body_name': 'rf_tip', 'body_id': 5}, 6: {'body_name': 'mf_base', 'body_id': 6, 'joint_name': 'mfj0'}, 7: {'body_name': 'mf_proximal', 'body_id': 7, 'joint_name': 'mfj1'}, 8: {'body_name': 'mf_medial', 'body_id': 8, 'joint_name': 'mfj2'}, 9: {'body_name': 'mf_distal', 'body_id': 9, 'joint_name': 'mfj3'}, 10: {'body_name': 'mf_tip', 'body_id': 10}, 11: {'body_name': 'ff_base', 'body_id': 11, 'joint_name': 'ffj0'}, 12: {'body_name': 'ff_proximal', 'body_id': 12, 'joint_name': 'ffj1'}, 13: {'body_name': 'ff_medial', 'body_id': 13, 'joint_name': 'ffj2'}, 14: {'body_name': 'ff_distal', 'body_id': 14, 'joint_name': 'ffj3'}, 15: {'body_name': 'ff_tip', 'body_id': 15}, 16: {'body_name': 'th_base', 'body_id': 16, 'joint_name': 'thj0'}, 17: {'body_name': 'th_proximal', 'body_id': 17, 'joint_name': 'thj1'}, 18: {'body_name': 'th_medial', 'body_id': 18, 'joint_name': 'thj2'}, 19: {'body_name': 'th_distal', 'body_id': 19, 'joint_name': 'thj3'}, 20: {'body_name': 'th_tip', 'body_id': 20}}\n"
     ]
    }
   ],
   "source": [
    "print(body_dict)"
   ]
  },
  {
   "cell_type": "code",
   "execution_count": null,
   "id": "3455c247-bc58-4925-b8e1-98b292959bb0",
   "metadata": {},
   "outputs": [],
   "source": [
    "# # Function to get actuator information\n",
    "# def get_actuator_info(model):\n",
    "#     actuators = []\n",
    "\n",
    "#     for i in range(model.nu):\n",
    "#         # actuator_name = model.mj_id2name(i, mujoco.mjtObj.mjOBJ_ACTUATOR)\n",
    "#         actuator_trnid = model.actuator_trnid[i]\n",
    "#         actuator_joint_id = actuator_trnid[0]  # Assuming the actuator controls a joint\n",
    "#         # actuator_joint_name = model.id2name(actuator_joint_id, mujoco.mjtObj.mjOBJ_JOINT)\n",
    "\n",
    "#         actuators.append({\n",
    "#             'id': i,\n",
    "#             # 'name': actuator_name,\n",
    "#             'joint_id': actuator_joint_id,\n",
    "#             # 'joint_name': actuator_joint_name,\n",
    "#             'gear': model.actuator_gear[i],\n",
    "#             'bias': model.actuator_biasprm[i]\n",
    "#         })\n",
    "\n",
    "#     return actuators\n",
    "\n",
    "# # Get actuator information\n",
    "# actuators = get_actuator_info(model)"
   ]
  },
  {
   "cell_type": "code",
   "execution_count": null,
   "id": "c931ebec-f5ca-4617-8d55-2a448236ac4c",
   "metadata": {},
   "outputs": [],
   "source": [
    "# for body in root.findall('.//body'):\n",
    "#         body_name = body.get('name')\n",
    "#         if body_name is None:\n",
    "#             continue\n",
    "#         for joint in body.findall('ACTUATOR'):\n",
    "#             joint_flag=True\n",
    "#             joint_name = joint.get('name')\n",
    "#             print(joint_name)"
   ]
  },
  {
   "cell_type": "code",
   "execution_count": null,
   "id": "a456cb01-d26c-40c4-a6ba-bf0511891e8c",
   "metadata": {},
   "outputs": [],
   "source": [
    "# for actuator in root.findall('.//ACTUATOR'):\n",
    "#     print(actuator)"
   ]
  },
  {
   "cell_type": "code",
   "execution_count": null,
   "id": "64e38313-fc8e-4d6e-ad85-9c48a93f9b5d",
   "metadata": {},
   "outputs": [],
   "source": [
    "# print(actuator_info)"
   ]
  },
  {
   "cell_type": "code",
   "execution_count": null,
   "id": "e91b5530-b48f-4ad2-86ea-39204e9b9455",
   "metadata": {},
   "outputs": [],
   "source": [
    "# # actuator name:[actuator_id, joint_id] \n",
    "# actuator_lsit=[\"ffa0\":[0],\"ffa1\":[1],\"ffa2\":[2],\"ffa3\":[3],\n",
    "#                \"mfa0\":[4],\"mfa1\":[5],\"mfa2\":[6],\"mfa3\":[7],\n",
    "#                \"rfa0\":[8],\"rfa1\":[9],\"rfa2\":[10],\"rfa3\":[11],\n",
    "#                \"tha0\":[12],\"tha1\":[13],\"tha2\":[14],\"tha3\":[15]\n",
    "# ]\n",
    "\n",
    "# def get_actuator_info(model):\n",
    "#     actuators = []\n",
    "\n",
    "#     for i in range(model.nu):\n",
    "#         # actuator_name = model.mj_id2name(i, mujoco.mjtObj.mjOBJ_ACTUATOR)\n",
    "#         actuator_trnid = model.actuator_trnid[i]\n",
    "#         actuator_joint_id = actuator_trnid[0]  # Assuming the actuator controls a joint\n",
    "#         # actuator_joint_name = model.id2name(actuator_joint_id, mujoco.mjtObj.mjOBJ_JOINT)\n",
    "#         # print(model.nu)\n",
    "#         actuators.append({\n",
    "#             'id': i,\n",
    "#             # 'name': actuator_name,\n",
    "#             'joint_id': actuator_joint_id\n",
    "#             # 'joint_name': actuator_joint_name,\n",
    "#             # 'gear': model.actuator_gear[i],\n",
    "#             # 'bias': model.actuator_biasprm[i]\n",
    "#         })\n",
    "\n",
    "#     return actuators\n",
    "\n",
    "# # Get actuator information\n",
    "# actuators = get_actuator_info(model)\n",
    "# print(actuators)"
   ]
  },
  {
   "cell_type": "code",
   "execution_count": 6,
   "id": "701720e5-6aa9-4c5d-9051-34b90a4abf3b",
   "metadata": {},
   "outputs": [],
   "source": [
    "# print(body_dict)\n",
    "for key, value in enumerate(body_dict):\n",
    "    if \"joint_name\" in body_dict[key]:\n",
    "        # print(body_dict[key][\"joint_name\"])\n",
    "        actuator_name=body_dict[key][\"joint_name\"].replace('j', 'a')\n",
    "        body_dict[key][\"actuator_name\"]=actuator_name"
   ]
  },
  {
   "cell_type": "code",
   "execution_count": null,
   "id": "30cc0faa-d4c3-45a3-b4f6-d1a185ef88a9",
   "metadata": {},
   "outputs": [],
   "source": [
    "print(body_dict)"
   ]
  },
  {
   "cell_type": "code",
   "execution_count": 7,
   "id": "7a875cef-b310-468d-b8e4-f0482f089d60",
   "metadata": {},
   "outputs": [
    {
     "name": "stdout",
     "output_type": "stream",
     "text": [
      "['rfa0', 8, 0]\n",
      "['rfa1', 9, 1]\n",
      "['rfa2', 10, 2]\n",
      "['rfa3', 11, 3]\n",
      "['mfa0', 4, 4]\n",
      "['mfa1', 5, 5]\n",
      "['mfa2', 6, 6]\n",
      "['mfa3', 7, 7]\n",
      "['ffa0', 0, 8]\n",
      "['ffa1', 1, 9]\n",
      "['ffa2', 2, 10]\n",
      "['ffa3', 3, 11]\n",
      "['tha0', 12, 12]\n",
      "['tha1', 13, 13]\n",
      "['tha2', 14, 14]\n",
      "['tha3', 15, 15]\n"
     ]
    }
   ],
   "source": [
    "\n",
    "# [actuator name,actuator_id, joint_id] \n",
    "\n",
    "actuator_list=[[\"ffa0\",0,8],[\"ffa1\",1,9],[\"ffa2\",2,10],[\"ffa3\",3,11],\n",
    "           [\"mfa0\",4,4],[\"mfa1\",5,5],[\"mfa2\",6,6],[\"mfa3\",7,7],\n",
    "        [\"rfa0\",8,0],[\"rfa1\",9,1],[\"rfa2\",10,2],[\"rfa3\",11,3],\n",
    "           [\"tha0\",12,12],[\"tha1\",13,13],[\"tha2\",14,14],[\"tha3\",15,15]]\n",
    "def actuator_key(act_name):\n",
    "\n",
    "    # index_found=False\n",
    "    for index in range(len(actuator_list)):\n",
    "        if actuator_list[index][0]==act_name:\n",
    "            # print(index)\n",
    "            return index\n",
    "        \n",
    "for key,value in enumerate(body_dict):\n",
    "    if 'actuator_name' in body_dict[key].keys():\n",
    "        # print(body_dict[key]['actuator_name'])        \n",
    "        ind=actuator_key(body_dict[key]['actuator_name'])\n",
    "        print(actuator_list[ind])\n",
    "        body_dict[key]['actuator_id']=actuator_list[ind][1]\n",
    "        body_dict[key]['joint_id']=actuator_list[ind][2]"
   ]
  },
  {
   "cell_type": "code",
   "execution_count": null,
   "id": "058c2fad-84cd-472e-b1d8-39549995a98f",
   "metadata": {},
   "outputs": [],
   "source": [
    "\n"
   ]
  },
  {
   "cell_type": "code",
   "execution_count": 8,
   "id": "ddb4280a-935f-448a-a2aa-bdc14a39a97f",
   "metadata": {},
   "outputs": [
    {
     "name": "stdout",
     "output_type": "stream",
     "text": [
      "{0: {'body_name': 'palm', 'body_id': 0}, 1: {'body_name': 'rf_base', 'body_id': 1, 'joint_name': 'rfj0', 'actuator_name': 'rfa0', 'actuator_id': 8, 'joint_id': 0}, 2: {'body_name': 'rf_proximal', 'body_id': 2, 'joint_name': 'rfj1', 'actuator_name': 'rfa1', 'actuator_id': 9, 'joint_id': 1}, 3: {'body_name': 'rf_medial', 'body_id': 3, 'joint_name': 'rfj2', 'actuator_name': 'rfa2', 'actuator_id': 10, 'joint_id': 2}, 4: {'body_name': 'rf_distal', 'body_id': 4, 'joint_name': 'rfj3', 'actuator_name': 'rfa3', 'actuator_id': 11, 'joint_id': 3}, 5: {'body_name': 'rf_tip', 'body_id': 5}, 6: {'body_name': 'mf_base', 'body_id': 6, 'joint_name': 'mfj0', 'actuator_name': 'mfa0', 'actuator_id': 4, 'joint_id': 4}, 7: {'body_name': 'mf_proximal', 'body_id': 7, 'joint_name': 'mfj1', 'actuator_name': 'mfa1', 'actuator_id': 5, 'joint_id': 5}, 8: {'body_name': 'mf_medial', 'body_id': 8, 'joint_name': 'mfj2', 'actuator_name': 'mfa2', 'actuator_id': 6, 'joint_id': 6}, 9: {'body_name': 'mf_distal', 'body_id': 9, 'joint_name': 'mfj3', 'actuator_name': 'mfa3', 'actuator_id': 7, 'joint_id': 7}, 10: {'body_name': 'mf_tip', 'body_id': 10}, 11: {'body_name': 'ff_base', 'body_id': 11, 'joint_name': 'ffj0', 'actuator_name': 'ffa0', 'actuator_id': 0, 'joint_id': 8}, 12: {'body_name': 'ff_proximal', 'body_id': 12, 'joint_name': 'ffj1', 'actuator_name': 'ffa1', 'actuator_id': 1, 'joint_id': 9}, 13: {'body_name': 'ff_medial', 'body_id': 13, 'joint_name': 'ffj2', 'actuator_name': 'ffa2', 'actuator_id': 2, 'joint_id': 10}, 14: {'body_name': 'ff_distal', 'body_id': 14, 'joint_name': 'ffj3', 'actuator_name': 'ffa3', 'actuator_id': 3, 'joint_id': 11}, 15: {'body_name': 'ff_tip', 'body_id': 15}, 16: {'body_name': 'th_base', 'body_id': 16, 'joint_name': 'thj0', 'actuator_name': 'tha0', 'actuator_id': 12, 'joint_id': 12}, 17: {'body_name': 'th_proximal', 'body_id': 17, 'joint_name': 'thj1', 'actuator_name': 'tha1', 'actuator_id': 13, 'joint_id': 13}, 18: {'body_name': 'th_medial', 'body_id': 18, 'joint_name': 'thj2', 'actuator_name': 'tha2', 'actuator_id': 14, 'joint_id': 14}, 19: {'body_name': 'th_distal', 'body_id': 19, 'joint_name': 'thj3', 'actuator_name': 'tha3', 'actuator_id': 15, 'joint_id': 15}, 20: {'body_name': 'th_tip', 'body_id': 20}}\n"
     ]
    }
   ],
   "source": [
    "print(body_dict)"
   ]
  },
  {
   "cell_type": "code",
   "execution_count": null,
   "id": "0eb91893-60e3-4868-b865-582e89e9e922",
   "metadata": {},
   "outputs": [],
   "source": [
    "import json\n",
    "\n",
    "\n",
    "# Save dictionary to JSON file\n",
    "def save_dict_to_json(dictionary, filename):\n",
    "    with open(filename, 'w') as json_file:\n",
    "        json.dump(dictionary, json_file, indent=4)\n",
    "\n",
    "# Load dictionary from JSON file\n",
    "def load_dict_from_json(filename):\n",
    "    with open(filename, 'r') as json_file:\n",
    "        dictionary = json.load(json_file)\n",
    "    return dictionary\n",
    "\n",
    "# Save dict to a JSON file\n",
    "save_dict_to_json(body_dict, 'body_dict.json')\n",
    "\n",
    "# Load the dict frm JSON file\n",
    "loaded_dict = load_dict_from_json('body_dict.json')\n",
    "\n",
    "# loaded dict\n",
    "print(loaded_dict)"
   ]
  },
  {
   "cell_type": "code",
   "execution_count": null,
   "id": "31eebe38-12ec-4bf5-9560-115cdca476be",
   "metadata": {},
   "outputs": [],
   "source": [
    "# import math\n",
    "\n",
    "#initialize the controller\n",
    "def set_position_servo(actuator_no, kp=10):\n",
    "    bend_angle=20\n",
    "    model.actuator_gainprm[actuator_no,0]=kp\n",
    "    model.actuator_biasprm[actuator_no,1]=-kp\n",
    "    data.ctrl=math.radians(bend_angle)\n",
    "\n",
    "# target_actuator=\"ffa1\"\n",
    "\n",
    "def actuator_name2id(actuator_name):\n",
    "    actuator_id=None\n",
    "    for key, value in enumerate(body_dict):\n",
    "         if \"actuator_name\" in body_dict[key]:\n",
    "            if body_dict[key][\"actuator_name\"]==actuator_name:\n",
    "            # actuator_name=body_dict[key][\"joint_name\"].replace('j', 'a')\n",
    "                actuator_id=body_dict[key][\"actuator_id\"]\n",
    "                return actuator_id\n",
    "\n",
    "\n",
    "\n",
    "\n",
    "\n",
    "def controller(model,data):\n",
    "    # spring like behaviour\n",
    "    actuator_name=\"ffa1\"\n",
    "    actuator_id=actuator_name2id(actuator_name)\n",
    "    set_position_servo(actuator_id,10)\n",
    "\n",
    "\n",
    "\n",
    "#set the controller\n",
    "mj.set_mjcb_control(controller)\n",
    "\n",
    "\n",
    "def init_controller(model,data):\n",
    "    pass\n",
    "\n",
    "\n",
    "\n"
   ]
  },
  {
   "cell_type": "code",
   "execution_count": null,
   "id": "8b0b210c-f2d8-41f0-a19e-40d1e54b0051",
   "metadata": {},
   "outputs": [],
   "source": [
    "joint_id=13\n",
    "for x in range(simend):\n",
    "    step_start = T.time()\n",
    "    mj.mj_step(model, data)\n",
    "    joint_angles = np.copy(data.qpos)\n",
    "    joint_torques = np.copy(data.qfrc_actuator)\n",
    "    # data.qpos[6] = q0[x];\n",
    "    # data.qpos[1] = q1[i];\n",
    "\n",
    "    print(\"XXXXXXXXXXXXXXXXXXXXXXXXXXXXXXXXXXXXXX\")\n",
    "    print(f\"angle {math.degrees(joint_angles[joint_id])}\")\n",
    "    \n",
    "    print(f\"torque {joint_torques[joint_id]}\")\n",
    "    print(\"XXXXXXXXXXXXXXXXXXXXXXXXXXXXXXXXXXXXXX\")\n",
    "\n",
    "    # print(\"Joint Angles:\", joint_angles)\n",
    "    # print(\"Joint Torques:\", joint_torques)"
   ]
  },
  {
   "cell_type": "code",
   "execution_count": 16,
   "id": "15ba0717-8dba-4803-a428-1370e60f3ca3",
   "metadata": {},
   "outputs": [],
   "source": [
    "N = 500\n",
    "simend=N\n",
    "import math\n"
   ]
  },
  {
   "cell_type": "code",
   "execution_count": 17,
   "id": "81857064-3941-4be1-b66c-591feefa199f",
   "metadata": {},
   "outputs": [],
   "source": [
    "\n",
    "\n",
    "def setPositionControl(joint_id,angle):\n",
    "    q_start = 0\n",
    "    q_end = math.radians(angle); # ending angle # 90 degrees-------------------\n",
    "    q = np.linspace(q_start,q_end,N)\n",
    "    data.qpos[joint_id] = q_start;\n",
    "    # print(q)\n",
    "    return q\n",
    "\n",
    "\n",
    "def positionControlArray(list_joint_id,list_target_angle):\n",
    "    q_array=[]\n",
    "    for joint in range(len(list_joint_id)):\n",
    "        q_array.append(setPositionControl(list_joint_id[joint], list_target_angle[joint]))\n",
    " \n",
    "    return q_array\n",
    "\n",
    "def actuator_name2id(actuator_name):\n",
    "    actuator_id=None\n",
    "    for key, value in enumerate(body_dict):\n",
    "         if \"actuator_name\" in body_dict[key]:\n",
    "            if body_dict[key][\"actuator_name\"]==actuator_name:\n",
    "            # actuator_name=body_dict[key][\"joint_name\"].replace('j', 'a')\n",
    "                actuator_id=body_dict[key][\"actuator_id\"]\n",
    "                return actuator_id\n",
    "\n",
    "\n",
    "def joint_name2id(joint_name):\n",
    "    actuator_id=None\n",
    "    for key, value in enumerate(body_dict):\n",
    "         if \"joint_name\" in body_dict[key]:\n",
    "            if body_dict[key][\"joint_name\"]==joint_name:\n",
    "            # actuator_name=body_dict[key][\"joint_name\"].replace('j', 'a')\n",
    "                actuator_id=body_dict[key][\"joint_id\"]\n",
    "                return actuator_id\n",
    "\n",
    "\n",
    "\n",
    "\n",
    "finger_detail={\"finger_pnky\":[\"rfj0\",\"rfj1\",\"rfj2\",\"rfj3\"],\n",
    "               \"finger_mid\":[\"mfj0\",\"mfj1\",\"mfj2\",\"mfj3\"],\n",
    "               \"finger_ind\":[\"ffj0\",\"ffj1\",\"ffj2\",\"ffj3\"],\n",
    "               \"finger_thm\":[\"thj0\",\"thj1\",\"thj2\",\"thj3\"]}\n",
    "\n",
    "# 0 finger_pnky 1 finger_mid, 2 finger_ind, 3 finger_thm\n",
    "fin=[]\n",
    "# print(finger_detail[\"finger_pnky\"][0])\n",
    "\n",
    "fin_index=0\n",
    "for key in finger_detail.keys():\n",
    "    cur_fin=[]\n",
    "    finger_detail\n",
    "    # print(finger_detail[key])\n",
    "    for joint_name in range(len(finger_detail[key])):\n",
    "        # print(finger_detail[key][joint_name])\n",
    "        joint_id=joint_name2id(finger_detail[key][joint_name])\n",
    "        cur_fin.append(joint_id)\n",
    "    fin.append(cur_fin)\n",
    "    fin_index+=1"
   ]
  },
  {
   "cell_type": "code",
   "execution_count": 19,
   "id": "d55e1efc-c0ed-46b2-923b-3b40eca1d6bc",
   "metadata": {},
   "outputs": [
    {
     "name": "stdout",
     "output_type": "stream",
     "text": [
      "finger detail\n",
      "[1, 2, 3]\n",
      "500\n"
     ]
    }
   ],
   "source": [
    "\n",
    "print(\"finger detail\")\n",
    "\n",
    "fin_sel=fin[0][1:]\n",
    "print(fin_sel)\n",
    "bend_angle=50\n",
    "q_array=positionControlArray(fin_sel,len(fin_sel)*[bend_angle])\n",
    "print(len(q_array[0]))\n"
   ]
  },
  {
   "cell_type": "code",
   "execution_count": null,
   "id": "7388dc89-11b6-49dd-8159-26a308072940",
   "metadata": {},
   "outputs": [],
   "source": []
  }
 ],
 "metadata": {
  "kernelspec": {
   "display_name": "Python 3 (ipykernel)",
   "language": "python",
   "name": "python3"
  },
  "language_info": {
   "codemirror_mode": {
    "name": "ipython",
    "version": 3
   },
   "file_extension": ".py",
   "mimetype": "text/x-python",
   "name": "python",
   "nbconvert_exporter": "python",
   "pygments_lexer": "ipython3",
   "version": "3.10.9"
  }
 },
 "nbformat": 4,
 "nbformat_minor": 5
}
