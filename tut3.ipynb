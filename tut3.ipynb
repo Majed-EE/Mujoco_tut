{
 "cells": [
  {
   "cell_type": "code",
   "execution_count": 12,
   "id": "bdf307a2-5b06-4bb1-bfd2-77e98ac5cdb1",
   "metadata": {},
   "outputs": [],
   "source": [
    "import mujoco as mj\n",
    "xml = \"\"\"\n",
    "<mujoco>\n",
    "  <worldbody>\n",
    "    <geom name=\"red_box\" type=\"box\" size=\".2 .2 .2\" rgba=\"1 0 0 1\"/>\n",
    "    <geom name=\"green_sphere\" pos=\".2 .2 .2\" size=\".1\" rgba=\"0 1 0 1\"/>\n",
    "  </worldbody>\n",
    "</mujoco>\n",
    "\"\"\"\n",
    "path_arh=r\"wonik_allegro/left_hand.xml\"\n",
    "model = mj.MjModel.from_xml_string(xml)\n",
    "arh_model=mj.MjModel.from_xml_path(path_arh)"
   ]
  },
  {
   "cell_type": "code",
   "execution_count": 15,
   "id": "598814d1-d21b-4eff-a5d3-52f36adb63d2",
   "metadata": {},
   "outputs": [
    {
     "data": {
      "text/plain": [
       "42"
      ]
     },
     "execution_count": 15,
     "metadata": {},
     "output_type": "execute_result"
    }
   ],
   "source": [
    "arh_model.ngeom\n",
    "# arh_model.geom()"
   ]
  },
  {
   "cell_type": "code",
   "execution_count": 4,
   "id": "70e8fe14-a99d-4179-89da-0ee596deb837",
   "metadata": {},
   "outputs": [
    {
     "name": "stdout",
     "output_type": "stream",
     "text": [
      "0.0\n",
      "[]\n",
      "[[0. 0. 0.]\n",
      " [0. 0. 0.]]\n",
      "[]\n"
     ]
    }
   ],
   "source": [
    "arh_data=mj.MjData(model)\n",
    "mj_data=mj.MjData(model)\n",
    "#data contain time, velocity position (of what exactly)\n",
    "print(mj_data.time)\n",
    "print(mj_data.qpos)\n",
    "print(mj_data.geom_xpos)\n",
    "print(mj_data.qvel)\n"
   ]
  },
  {
   "cell_type": "code",
   "execution_count": 23,
   "id": "45aa1187-8adc-4081-aeab-14ee8ad562e5",
   "metadata": {},
   "outputs": [
    {
     "name": "stdout",
     "output_type": "stream",
     "text": [
      "[0. 0. 0. 0. 0. 0. 0. 0. 0. 0. 0. 0. 0. 0. 0. 0.]\n",
      "16\n",
      "42\n"
     ]
    }
   ],
   "source": [
    "arh_data=mj.MjData(arh_model)\n",
    "# print(arh_data.time)\n",
    "print(arh_data.qpos)\n",
    "print(len(arh_data.qpos))\n",
    "y=0\n",
    "# for x in arh_data.geom_xpos:\n",
    "#     y=y+1\n",
    "\n",
    "print(y)\n",
    "# print(arh_data.qvel)"
   ]
  },
  {
   "cell_type": "code",
   "execution_count": 25,
   "id": "91c74a9d-3e81-42bb-8981-9a450c82f25c",
   "metadata": {},
   "outputs": [
    {
     "ename": "NameError",
     "evalue": "name 'media' is not defined",
     "output_type": "error",
     "traceback": [
      "\u001b[0;31m---------------------------------------------------------------------------\u001b[0m",
      "\u001b[0;31mNameError\u001b[0m                                 Traceback (most recent call last)",
      "Cell \u001b[0;32mIn[25], line 3\u001b[0m\n\u001b[1;32m      1\u001b[0m \u001b[38;5;66;03m# Make renderer, render and show the pixels\u001b[39;00m\n\u001b[1;32m      2\u001b[0m \u001b[38;5;28;01mwith\u001b[39;00m mj\u001b[38;5;241m.\u001b[39mRenderer(arh_model) \u001b[38;5;28;01mas\u001b[39;00m renderer:\n\u001b[0;32m----> 3\u001b[0m   \u001b[43mmedia\u001b[49m\u001b[38;5;241m.\u001b[39mshow_image(renderer\u001b[38;5;241m.\u001b[39mrender())\n",
      "\u001b[0;31mNameError\u001b[0m: name 'media' is not defined"
     ]
    }
   ],
   "source": [
    "# Make renderer, render and show the pixels\n",
    "with mj.Renderer(arh_model) as renderer:\n",
    "  media.show_image(renderer.render())"
   ]
  },
  {
   "cell_type": "code",
   "execution_count": null,
   "id": "7b698d8f-5833-4a8e-813c-4a5e820954e5",
   "metadata": {},
   "outputs": [],
   "source": []
  }
 ],
 "metadata": {
  "kernelspec": {
   "display_name": "Python 3 (ipykernel)",
   "language": "python",
   "name": "python3"
  },
  "language_info": {
   "codemirror_mode": {
    "name": "ipython",
    "version": 3
   },
   "file_extension": ".py",
   "mimetype": "text/x-python",
   "name": "python",
   "nbconvert_exporter": "python",
   "pygments_lexer": "ipython3",
   "version": "3.10.9"
  }
 },
 "nbformat": 4,
 "nbformat_minor": 5
}
