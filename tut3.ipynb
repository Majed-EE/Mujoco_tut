{
 "cells": [
  {
   "cell_type": "code",
   "execution_count": 2,
   "id": "bdf307a2-5b06-4bb1-bfd2-77e98ac5cdb1",
   "metadata": {},
   "outputs": [],
   "source": [
    "import mujoco as mj\n",
    "xml = \"\"\"\n",
    "<mujoco>\n",
    "  <worldbody>\n",
    "    <geom name=\"red_box\" type=\"box\" size=\".2 .2 .2\" rgba=\"1 0 0 1\"/>\n",
    "    <geom name=\"green_sphere\" pos=\".2 .2 .2\" size=\".1\" rgba=\"0 1 0 1\"/>\n",
    "  </worldbody>\n",
    "</mujoco>\n",
    "\"\"\"\n",
    "model = mj.MjModel.from_xml_string(xml)"
   ]
  },
  {
   "cell_type": "code",
   "execution_count": 4,
   "id": "70e8fe14-a99d-4179-89da-0ee596deb837",
   "metadata": {},
   "outputs": [
    {
     "name": "stdout",
     "output_type": "stream",
     "text": [
      "0.0\n",
      "[]\n",
      "[[0. 0. 0.]\n",
      " [0. 0. 0.]]\n",
      "[]\n"
     ]
    }
   ],
   "source": [
    "mj_data=mj.MjData(model)\n",
    "#data contain time, velocity position (of what exactly)\n",
    "print(mj_data.time)\n",
    "print(mj_data.qpos)\n",
    "print(mj_data.geom_xpos)\n",
    "print(mj_data.qvel)\n"
   ]
  },
  {
   "cell_type": "code",
   "execution_count": null,
   "id": "45aa1187-8adc-4081-aeab-14ee8ad562e5",
   "metadata": {},
   "outputs": [],
   "source": []
  }
 ],
 "metadata": {
  "kernelspec": {
   "display_name": "Python 3 (ipykernel)",
   "language": "python",
   "name": "python3"
  },
  "language_info": {
   "codemirror_mode": {
    "name": "ipython",
    "version": 3
   },
   "file_extension": ".py",
   "mimetype": "text/x-python",
   "name": "python",
   "nbconvert_exporter": "python",
   "pygments_lexer": "ipython3",
   "version": "3.10.9"
  }
 },
 "nbformat": 4,
 "nbformat_minor": 5
}
