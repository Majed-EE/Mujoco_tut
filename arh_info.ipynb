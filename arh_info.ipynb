{
 "cells": [
  {
   "cell_type": "code",
   "execution_count": 1,
   "id": "1dd699d6-912b-4866-a4c4-84b8aa012084",
   "metadata": {},
   "outputs": [
    {
     "data": {
      "text/plain": [
       "1.5707963267948966"
      ]
     },
     "execution_count": 1,
     "metadata": {},
     "output_type": "execute_result"
    }
   ],
   "source": [
    "import math\n",
    "math.radians(90)"
   ]
  },
  {
   "cell_type": "code",
   "execution_count": 9,
   "id": "b44591fd-74ec-464b-85f3-cf120db324e3",
   "metadata": {},
   "outputs": [],
   "source": [
    "import mujoco\n",
    "\n",
    "# Load the MuJoCo model from the XML file\n",
    "model = mujoco.MjModel.from_xml_path('left_hand_light.xml')\n",
    "\n"
   ]
  },
  {
   "cell_type": "code",
   "execution_count": 10,
   "id": "fabcb793-2ef1-4ddd-a258-23570b41f9ba",
   "metadata": {},
   "outputs": [
    {
     "name": "stdout",
     "output_type": "stream",
     "text": [
      "2\n"
     ]
    }
   ],
   "source": [
    "num_camera=model.ncam\n",
    "print(num_camera)\n"
   ]
  },
  {
   "cell_type": "code",
   "execution_count": 5,
   "id": "46d033da-2234-46a3-8600-38ddf08b4c05",
   "metadata": {},
   "outputs": [],
   "source": [
    "import xml.etree.ElementTree as ET\n"
   ]
  },
  {
   "cell_type": "code",
   "execution_count": 6,
   "id": "79e7acb4-84db-44c0-9383-d4968d74bcb7",
   "metadata": {},
   "outputs": [],
   "source": [
    "\n",
    "def get_cameras_from_xml(xml_path):\n",
    "    tree = ET.parse(xml_path)\n",
    "    root = tree.getroot()\n",
    "\n",
    "    cameras = []\n",
    "\n",
    "    # Iterate over all camera elements in the XML\n",
    "    for camera in root.findall('.//camera'):\n",
    "        cam_name = camera.get('name')\n",
    "        cam_pos = camera.get('pos')\n",
    "        cam_quat = camera.get('quat')\n",
    "\n",
    "        # Convert the position and quaternion strings to lists of floats\n",
    "        if cam_pos:\n",
    "            cam_pos = list(map(float, cam_pos.split()))\n",
    "        if cam_quat:\n",
    "            cam_quat = list(map(float, cam_quat.split()))\n",
    "\n",
    "        cameras.append({\n",
    "            'name': cam_name,\n",
    "            'pos': cam_pos,\n",
    "            'quat': cam_quat\n",
    "        })\n",
    "\n",
    "    return cameras"
   ]
  },
  {
   "cell_type": "code",
   "execution_count": 8,
   "id": "e1972dc1-eadb-449e-996b-eb6bdf60510d",
   "metadata": {},
   "outputs": [
    {
     "name": "stdout",
     "output_type": "stream",
     "text": [
      "Camera Name: cam1\n",
      "Position: [0.0, 0.0, 2.0]\n",
      "Orientation (Quaternion): [1.0, 0.0, 0.0, 0.0]\n",
      "\n",
      "Camera Name: cam2\n",
      "Position: [2.0, 0.0, 0.0]\n",
      "Orientation (Quaternion): [0.707, 0.0, 0.707, 0.0]\n",
      "\n"
     ]
    }
   ],
   "source": [
    "# Get camera information\n",
    "cameras = get_cameras_from_xml(\"left_hand_light.xml\")\n",
    "\n",
    "# Print camera information\n",
    "for cam in cameras:\n",
    "    print(f\"Camera Name: {cam['name']}\")\n",
    "    print(f\"Position: {cam['pos']}\")\n",
    "    print(f\"Orientation (Quaternion): {cam['quat']}\")\n",
    "    print()"
   ]
  },
  {
   "cell_type": "code",
   "execution_count": 2,
   "id": "980d773d-38ce-4ce5-a1a0-5f5f6b7cd963",
   "metadata": {},
   "outputs": [
    {
     "name": "stdout",
     "output_type": "stream",
     "text": [
      "Number of joints: 16\n"
     ]
    }
   ],
   "source": [
    "# Get the number of joints\n",
    "num_joints = model.njnt\n",
    "print(f\"Number of joints: {num_joints}\")"
   ]
  },
  {
   "cell_type": "code",
   "execution_count": 17,
   "id": "e69c90d4-368f-41be-9a5c-fedeb493c650",
   "metadata": {},
   "outputs": [
    {
     "name": "stdout",
     "output_type": "stream",
     "text": [
      "[(212, 3, 2, array([0., 0., 1.])), (217, 3, 3, array([0., 1., 0.])), (222, 3, 4, array([0., 1., 0.])), (227, 3, 5, array([0., 1., 0.])), (232, 3, 7, array([0., 0., 1.])), (237, 3, 8, array([0., 1., 0.])), (242, 3, 9, array([0., 1., 0.])), (247, 3, 10, array([0., 1., 0.])), (252, 3, 12, array([0., 0., 1.])), (257, 3, 13, array([0., 1., 0.])), (262, 3, 14, array([0., 1., 0.])), (267, 3, 15, array([0., 1., 0.])), (272, 3, 17, array([1., 0., 0.])), (277, 3, 18, array([ 0.,  0., -1.])), (282, 3, 19, array([0., 1., 0.])), (287, 3, 20, array([0., 1., 0.]))]\n"
     ]
    }
   ],
   "source": [
    "# Get the joint names, types, and orientations in space\n",
    "joint_info = []\n",
    "for i in range(num_joints):\n",
    "    joint_name = model.name_jntadr[i]\n",
    "    joint_body = model.jnt_bodyid[i]   \n",
    "    \n",
    "    joint_type = model.jnt_type[i]\n",
    "    # Orientation in space: Joint axis or orientation quaternion (depends on joint type)\n",
    "    joint_axis = model.jnt_axis[i] \n",
    "    joint_info.append((joint_name, joint_type, joint_body,joint_axis))\n",
    "# print(len(joint_name))\n",
    "print(joint_info)"
   ]
  },
  {
   "cell_type": "code",
   "execution_count": 33,
   "id": "e259b2cd-3e95-49ec-a156-b6d9ce345460",
   "metadata": {},
   "outputs": [
    {
     "name": "stdout",
     "output_type": "stream",
     "text": [
      "b'allegro_left\\x00world\\x00palm\\x00rf_base\\x00rf_proximal\\x00rf_medial\\x00rf_distal\\x00rf_tip\\x00mf_base\\x00mf_proximal\\x00mf_medial\\x00mf_distal\\x00mf_tip\\x00ff_base\\x00ff_proximal\\x00ff_medial\\x00ff_distal\\x00ff_tip\\x00th_base\\x00th_proximal\\x00th_medial\\x00th_distal\\x00th_tip\\x00rfj0\\x00rfj1\\x00rfj2\\x00rfj3\\x00mfj0\\x00mfj1\\x00mfj2\\x00mfj3\\x00ffj0\\x00ffj1\\x00ffj2\\x00ffj3\\x00thj0\\x00thj1\\x00thj2\\x00thj3\\x00\\x00\\x00\\x00\\x00\\x00\\x00\\x00\\x00\\x00\\x00\\x00\\x00\\x00\\x00\\x00\\x00\\x00\\x00\\x00\\x00\\x00\\x00\\x00\\x00\\x00\\x00\\x00\\x00\\x00\\x00\\x00\\x00\\x00\\x00\\x00\\x00\\x00\\x00\\x00\\x00\\x00\\x00base_link_left\\x00link_0.0\\x00link_1.0\\x00link_2.0\\x00link_3.0\\x00link_3.0_tip\\x00link_12.0_left\\x00link_13.0\\x00link_14.0\\x00link_15.0\\x00link_15.0_tip\\x00black\\x00white\\x00\\x00\\x00\\x00\\x00\\x00ffa0\\x00ffa1\\x00ffa2\\x00ffa3\\x00mfa0\\x00mfa1\\x00mfa2\\x00mfa3\\x00rfa0\\x00rfa1\\x00rfa2\\x00rfa3\\x00tha0\\x00tha1\\x00tha2\\x00tha3\\x00'\n"
     ]
    }
   ],
   "source": [
    "joint_name = model.names\n",
    "print(joint_name)\n"
   ]
  },
  {
   "cell_type": "code",
   "execution_count": null,
   "id": "28170157-a600-4b55-b66c-7da01891885f",
   "metadata": {},
   "outputs": [],
   "source": [
    "\n",
    "# Get the number of joints\n",
    "num_joints = model.njnt\n",
    "print(f\"Number of joints: {num_joints}\")\n",
    "\n",
    "# Get the joint names, types, and orientations in space\n",
    "joint_info = []\n",
    "for i in range(num_joints):\n",
    "    joint_name = model.joint_id2name(i)\n",
    "    joint_type = model.jnt_type[i]\n",
    "    # Orientation in space: Joint axis or orientation quaternion (depends on joint type)\n",
    "    joint_axis_or_quat = model.jnt_axis[i] if joint_type in [2, 3] else model.jnt_quat[i]\n",
    "    joint_info.append((joint_name, joint_type, joint_axis_or_quat))\n",
    "\n",
    "# Map joint types to human-readable strings\n",
    "joint_type_mapping = {\n",
    "    0: 'free',\n",
    "    1: 'ball',\n",
    "    2: 'slide',\n",
    "    3: 'hinge',\n",
    "    4: 'plane',\n",
    "    5: 'fixed'\n",
    "}\n",
    "\n",
    "# Print joint information\n",
    "print(\"Joint Information:\")\n",
    "for name, jtype, axis_or_quat in joint_info:\n",
    "    readable_type = joint_type_mapping.get(jtype, 'unknown')\n",
    "    print(f\"Name: {name}, Type: {readable_type}, Orientation: {axis_or_quat}\")\n",
    "\n",
    "# Get the number of bodies\n",
    "num_bodies = model.nbody\n",
    "print(f\"Number of bodies: {num_bodies}\")\n",
    "\n",
    "# Get the body names\n",
    "body_names = []\n",
    "for i in range(num_bodies):\n",
    "    body_name = model.body_id2name(i)\n",
    "    body_names.append(body_name)\n",
    "\n",
    "# Print body names\n",
    "print(\"Body Names:\")\n",
    "for name in body_names:\n",
    "    print(name)"
   ]
  },
  {
   "cell_type": "code",
   "execution_count": 25,
   "id": "378b8068-663c-4cbe-8f2b-6b5818b5b16c",
   "metadata": {},
   "outputs": [
    {
     "name": "stdout",
     "output_type": "stream",
     "text": [
      "Number of bodies: 22\n",
      "Number of site: 0\n",
      "0\n"
     ]
    }
   ],
   "source": [
    "\n",
    "# Get the number of bodies\n",
    "num_bodies = model.nbody\n",
    "print(f\"Number of bodies: {num_bodies}\")\n",
    "\n",
    "\n",
    "\n",
    "# Get the number of bodies\n",
    "num_site = model.nsite\n",
    "print(f\"Number of site: {num_site}\")\n",
    "n_cam=model.ncam\n",
    "print(n_cam)\n"
   ]
  },
  {
   "cell_type": "code",
   "execution_count": 29,
   "id": "cd557085-e9bd-4a84-9de3-04e5253c156d",
   "metadata": {},
   "outputs": [
    {
     "name": "stdout",
     "output_type": "stream",
     "text": [
      "22\n",
      "Body Names Parent:\n",
      "0\n",
      "0\n",
      "2\n",
      "3\n",
      "4\n",
      "5\n",
      "5\n",
      "7\n",
      "8\n",
      "9\n",
      "10\n",
      "10\n",
      "12\n",
      "13\n",
      "14\n",
      "15\n",
      "15\n",
      "17\n",
      "18\n",
      "19\n",
      "20\n",
      "20\n"
     ]
    }
   ],
   "source": [
    "# Get the body names\n",
    "body_names = []\n",
    "for i in range(num_bodies):\n",
    "    body_name = model.name_bodyadr[i]\n",
    "    body_names.append(body_name)\n",
    "\n",
    "\n",
    "body_names_parent = []\n",
    "for i in range(num_bodies):\n",
    "    body_name = model.body_weldid[i]\n",
    "    body_names_parent.append(body_name)\n",
    "# Print body names\n",
    "print(len(body_names))\n",
    "print(\"Body Names Parent:\")\n",
    "\n",
    "for name in body_names_parent:\n",
    "    print(name)"
   ]
  },
  {
   "cell_type": "code",
   "execution_count": 34,
   "id": "7c7e7040-7fe9-494a-96d6-4d0ead548957",
   "metadata": {},
   "outputs": [],
   "source": [
    "import mujoco.viewer"
   ]
  },
  {
   "cell_type": "code",
   "execution_count": null,
   "id": "6d88b648-0567-4346-a223-d9801fb5f0f0",
   "metadata": {},
   "outputs": [],
   "source": []
  },
  {
   "cell_type": "code",
   "execution_count": null,
   "id": "0e7deab9-d74b-4bfb-aea0-898893543a29",
   "metadata": {},
   "outputs": [],
   "source": []
  }
 ],
 "metadata": {
  "kernelspec": {
   "display_name": "Python 3 (ipykernel)",
   "language": "python",
   "name": "python3"
  },
  "language_info": {
   "codemirror_mode": {
    "name": "ipython",
    "version": 3
   },
   "file_extension": ".py",
   "mimetype": "text/x-python",
   "name": "python",
   "nbconvert_exporter": "python",
   "pygments_lexer": "ipython3",
   "version": "3.10.9"
  }
 },
 "nbformat": 4,
 "nbformat_minor": 5
}
